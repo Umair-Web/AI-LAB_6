{
 "cells": [
  {
   "cell_type": "code",
   "execution_count": 3,
   "id": "fd35739a-5ce6-42ac-8bb4-9c4b14393399",
   "metadata": {},
   "outputs": [
    {
     "name": "stdout",
     "output_type": "stream",
     "text": [
      "    Unnamed: 0  YearsExperience    Salary\n",
      "0            0              1.2   39344.0\n",
      "1            1              1.4   46206.0\n",
      "2            2              1.6   37732.0\n",
      "3            3              2.1   43526.0\n",
      "4            4              2.3   39892.0\n",
      "5            5              3.0   56643.0\n",
      "6            6              3.1   60151.0\n",
      "7            7              3.3   54446.0\n",
      "8            8              3.3   64446.0\n",
      "9            9              3.8   57190.0\n",
      "10          10              4.0   63219.0\n",
      "11          11              4.1   55795.0\n",
      "12          12              4.1   56958.0\n",
      "13          13              4.2   57082.0\n",
      "14          14              4.6   61112.0\n",
      "15          15              5.0   67939.0\n",
      "16          16              5.2   66030.0\n",
      "17          17              5.4   83089.0\n",
      "18          18              6.0   81364.0\n",
      "19          19              6.1   93941.0\n",
      "20          20              6.9   91739.0\n",
      "21          21              7.2   98274.0\n",
      "22          22              8.0  101303.0\n",
      "23          23              8.3  113813.0\n",
      "24          24              8.8  109432.0\n",
      "25          25              9.1  105583.0\n",
      "26          26              9.6  116970.0\n",
      "27          27              9.7  112636.0\n",
      "28          28             10.4  122392.0\n",
      "29          29             10.6  121873.0\n"
     ]
    },
    {
     "data": {
      "image/png": "[encoded data removed]",
      "text/plain": [
       "<Figure size 640x480 with 1 Axes>"
      ]
     },
     "metadata": {},
     "output_type": "display_data"
    },
    {
     "name": "stdout",
     "output_type": "stream",
     "text": [
      "Predicted Salary for 5 years of experience: [72098.0155738]\n",
      "Coefficient (m): [9449.96232146]\n",
      "Intercept (b): 24848.203966523222\n",
      "Predicted Salary from formula: [72098.0155738]\n",
      "Predicted salary with 3 years of experience: [53198.09093089]\n",
      "Predicted salary with 8 years of experience: [100447.90253816]\n",
      "Predicted salary with 10 years of experience: [119347.82718107]\n"
     ]
    },
    {
     "name": "stderr",
     "output_type": "stream",
     "text": [
      "C:\\Users\\ABC\\anaconda3\\Lib\\site-packages\\sklearn\\base.py:439: UserWarning: X does not have valid feature names, but LinearRegression was fitted with feature names\n",
      "  warnings.warn(\n",
      "C:\\Users\\ABC\\anaconda3\\Lib\\site-packages\\sklearn\\base.py:439: UserWarning: X does not have valid feature names, but LinearRegression was fitted with feature names\n",
      "  warnings.warn(\n",
      "C:\\Users\\ABC\\anaconda3\\Lib\\site-packages\\sklearn\\base.py:439: UserWarning: X does not have valid feature names, but LinearRegression was fitted with feature names\n",
      "  warnings.warn(\n",
      "C:\\Users\\ABC\\anaconda3\\Lib\\site-packages\\sklearn\\base.py:439: UserWarning: X does not have valid feature names, but LinearRegression was fitted with feature names\n",
      "  warnings.warn(\n"
     ]
    }
   ],
   "source": [
    "import pandas as pd\n",
    "import numpy as np\n",
    "from sklearn.linear_model import LinearRegression\n",
    "import matplotlib.pyplot as plt\n",
    "\n",
    "\n",
    "data = pd.read_csv(\"Salary_dataset.csv\")\n",
    "\n",
    "\n",
    "print(data)\n",
    "\n",
    "\n",
    "plt.xlabel(\"Years of Experience\")\n",
    "plt.ylabel(\"Salary\")\n",
    "plt.scatter(data.YearsExperience, data.Salary, color='red', marker='+')\n",
    "plt.show()\n",
    "\n",
    "\n",
    "X = data[['YearsExperience']] \n",
    "y = data['Salary']  \n",
    "\n",
    "\n",
    "reg = LinearRegression()\n",
    "reg.fit(X, y)\n",
    "\n",
    "\n",
    "predicted_salary = reg.predict([[5]])\n",
    "print(\"Predicted Salary for 5 years of experience:\", predicted_salary)\n",
    "\n",
    "\n",
    "print(\"Coefficient (m):\", reg.coef_)\n",
    "print(\"Intercept (b):\", reg.intercept_)\n",
    "\n",
    "# Predict using the formula Y = mX + b\n",
    "predicted_salary_formula = 5 * reg.coef_ + reg.intercept_\n",
    "print(\"Predicted Salary from formula:\", predicted_salary_formula)\n",
    "\n",
    "# Predict salary for multiple values of years of experience\n",
    "predicted_salary1 = reg.predict([[3]])\n",
    "predicted_salary2 = reg.predict([[8]])\n",
    "predicted_salary3 = reg.predict([[10]])\n",
    "\n",
    "print(f\"Predicted salary with 3 years of experience: {predicted_salary1}\")\n",
    "print(f\"Predicted salary with 8 years of experience: {predicted_salary2}\")\n",
    "print(f\"Predicted salary with 10 years of experience: {predicted_salary3}\")\n",
    "\n",
    "\n"
   ]
  },
  {
   "cell_type": "code",
   "execution_count": null,
   "id": "c07b0f45-565b-4760-8664-6c5b40da00aa",
   "metadata": {},
   "outputs": [],
   "source": []
  }
 ],
 "metadata": {
  "kernelspec": {
   "display_name": "Python 3 (ipykernel)",
   "language": "python",
   "name": "python3"
  },
  "language_info": {
   "codemirror_mode": {
    "name": "ipython",
    "version": 3
   },
   "file_extension": ".py",
   "mimetype": "text/x-python",
   "name": "python",
   "nbconvert_exporter": "python",
   "pygments_lexer": "ipython3",
   "version": "3.11.7"
  }
 },
 "nbformat": 4,
 "nbformat_minor": 5
}
